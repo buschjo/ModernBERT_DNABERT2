{
 "cells": [
  {
   "cell_type": "markdown",
   "metadata": {},
   "source": [
    "Make more graphs with wandb data"
   ]
  },
  {
   "cell_type": "code",
   "execution_count": 1,
   "metadata": {},
   "outputs": [],
   "source": [
    "import wandb\n",
    "import plotly.express as px\n",
    "import plotly.graph_objects as go\n",
    "from plotly.subplots import make_subplots\n",
    "import pandas as pd\n",
    "import numpy as np"
   ]
  },
  {
   "cell_type": "code",
   "execution_count": 2,
   "metadata": {},
   "outputs": [],
   "source": [
    "api = wandb.Api()"
   ]
  },
  {
   "cell_type": "markdown",
   "metadata": {},
   "source": [
    "# Update Meta Info of existing runs"
   ]
  },
  {
   "cell_type": "code",
   "execution_count": 10,
   "metadata": {},
   "outputs": [],
   "source": [
    "entity = 'josefine-busch-htw-berlin'\n",
    "project = 'modern_dnabert_pretraining'\n",
    "run_name = 'upn5obi1'\n",
    "run = api.run(f\"/{entity}/{project}/runs/{run_name}\")\n",
    "run.config[\"tokenizer_name\"] = \"/scratch/jbusch/ma/tokenizer/hs_tokenizer/HS_2_5M_NRC\"\n",
    "run.update()"
   ]
  }
 ],
 "metadata": {
  "kernelspec": {
   "display_name": "ma_notebooks",
   "language": "python",
   "name": "python3"
  },
  "language_info": {
   "codemirror_mode": {
    "name": "ipython",
    "version": 3
   },
   "file_extension": ".py",
   "mimetype": "text/x-python",
   "name": "python",
   "nbconvert_exporter": "python",
   "pygments_lexer": "ipython3",
   "version": "3.11.11"
  }
 },
 "nbformat": 4,
 "nbformat_minor": 2
}
