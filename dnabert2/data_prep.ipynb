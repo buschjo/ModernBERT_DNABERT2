{
 "cells": [
  {
   "cell_type": "markdown",
   "metadata": {},
   "source": [
    "# Convert DNABERT2 Pretraining Data to Streaming Format (MDS)\n",
    "\n",
    "adapted from\n",
    "* https://github.com/mosaicml/streaming?tab=readme-ov-file#1-prepare-your-data (accessed: 13.03.2025)\n",
    "* https://docs.mosaicml.com/projects/streaming/en/latest/getting_started/main_concepts.html (accessed: 13.03.2025)\n",
    "* https://docs.mosaicml.com/projects/streaming/en/latest/preparing_datasets/basic_dataset_conversion.html#configuring-dataset-writing (accessed: 13.03.2025)"
   ]
  },
  {
   "cell_type": "code",
   "execution_count": 1,
   "metadata": {},
   "outputs": [
    {
     "name": "stderr",
     "output_type": "stream",
     "text": [
      "Exception ignored in: <bound method IPythonKernel._clean_thread_parent_frames of <ipykernel.ipkernel.IPythonKernel object at 0x7f63d3b48410>>\n",
      "Traceback (most recent call last):\n",
      "  File \"/home/cluster_home/jbusch/conda/envs/standard/lib/python3.11/site-packages/ipykernel/ipkernel.py\", line 775, in _clean_thread_parent_frames\n",
      "    def _clean_thread_parent_frames(\n",
      "\n",
      "KeyboardInterrupt: \n"
     ]
    }
   ],
   "source": [
    "import os\n",
    "import torch\n",
    "from torch.utils.data import Dataset\n",
    "import pandas as pd\n",
    "from streaming import MDSWriter"
   ]
  },
  {
   "cell_type": "code",
   "execution_count": null,
   "metadata": {},
   "outputs": [],
   "source": [
    "path = '/scratch/jbusch/ma/data/dnabert_2_pretrain/'\n",
    "column_name = 'input_ids'\n",
    "dev = pd.read_csv(f'{path}dev.txt', sep=\" \", names=[column_name])\n",
    "train = pd.read_csv(f'{path}train.txt', sep=\" \", names=[column_name])"
   ]
  },
  {
   "cell_type": "code",
   "execution_count": 6,
   "metadata": {},
   "outputs": [],
   "source": [
    "def create_shards(path, df, column_name):\n",
    "    columns = {\n",
    "        column_name: 'str'\n",
    "    }\n",
    "\n",
    "    # Save the samples as shards using MDSWriter\n",
    "    with MDSWriter(out=path, columns=columns) as out:\n",
    "        for i in range(len(df)):\n",
    "            out.write(df.iloc[i])\n",
    "\n",
    "    print(f'Dataset written to {path}...')"
   ]
  },
  {
   "cell_type": "code",
   "execution_count": 8,
   "metadata": {},
   "outputs": [
    {
     "name": "stdout",
     "output_type": "stream",
     "text": [
      "Dataset written to /scratch/jbusch/ma/data/dnabert_2_pretrain/streaming2/val/...\n"
     ]
    }
   ],
   "source": [
    "create_shards(f'{path}streaming2/val/', dev, column_name)"
   ]
  },
  {
   "cell_type": "code",
   "execution_count": 9,
   "metadata": {},
   "outputs": [
    {
     "name": "stdout",
     "output_type": "stream",
     "text": [
      "Dataset written to /scratch/jbusch/ma/data/dnabert_2_pretrain/streaming2/train/...\n"
     ]
    }
   ],
   "source": [
    "create_shards(f'{path}streaming2/train/', train, column_name)"
   ]
  }
 ],
 "metadata": {
  "kernelspec": {
   "display_name": "standard",
   "language": "python",
   "name": "python3"
  },
  "language_info": {
   "codemirror_mode": {
    "name": "ipython",
    "version": 3
   },
   "file_extension": ".py",
   "mimetype": "text/x-python",
   "name": "python",
   "nbconvert_exporter": "python",
   "pygments_lexer": "ipython3",
   "version": "3.11.11"
  }
 },
 "nbformat": 4,
 "nbformat_minor": 2
}
