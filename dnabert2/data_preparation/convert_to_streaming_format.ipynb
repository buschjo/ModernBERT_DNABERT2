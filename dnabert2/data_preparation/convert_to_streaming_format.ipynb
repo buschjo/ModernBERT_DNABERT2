{
 "cells": [
  {
   "cell_type": "markdown",
   "metadata": {},
   "source": [
    "# Convert DNABERT2 Pretraining Data to Streaming Format (MDS)\n",
    "\n",
    "adapted from\n",
    "* https://github.com/mosaicml/streaming?tab=readme-ov-file#1-prepare-your-data (accessed: 13.03.2025)\n",
    "* https://docs.mosaicml.com/projects/streaming/en/latest/getting_started/main_concepts.html (accessed: 13.03.2025)\n",
    "* https://docs.mosaicml.com/projects/streaming/en/latest/preparing_datasets/basic_dataset_conversion.html#configuring-dataset-writing (accessed: 13.03.2025)"
   ]
  },
  {
   "cell_type": "code",
   "execution_count": 1,
   "metadata": {},
   "outputs": [
    {
     "name": "stderr",
     "output_type": "stream",
     "text": [
      "/home/cluster_home/jbusch/conda/envs/ma_notebooks/lib/python3.11/site-packages/tqdm/auto.py:21: TqdmWarning: IProgress not found. Please update jupyter and ipywidgets. See https://ipywidgets.readthedocs.io/en/stable/user_install.html\n",
      "  from .autonotebook import tqdm as notebook_tqdm\n"
     ]
    }
   ],
   "source": [
    "import os\n",
    "import torch\n",
    "from torch.utils.data import Dataset\n",
    "import pandas as pd\n",
    "from streaming import MDSWriter"
   ]
  },
  {
   "cell_type": "code",
   "execution_count": 2,
   "metadata": {},
   "outputs": [],
   "source": [
    "path = '/scratch/jbusch/ma/data/dnabert_2_pretrain/'\n",
    "column_name = 'text'\n",
    "dev = pd.read_csv(f'{path}dev.txt', sep=\" \", names=[column_name])\n",
    "train = pd.read_csv(f'{path}train.txt', sep=\" \", names=[column_name])\n",
    "# reverse complement dataset\n",
    "# rc_dev = pd.read_csv(f'{path}reverse_complement/dev.txt', sep=\" \", names=[column_name])\n",
    "# rc_train = pd.read_csv(f'{path}reverse_complement/train.txt', sep=\" \", names=[column_name])"
   ]
  },
  {
   "cell_type": "code",
   "execution_count": 4,
   "metadata": {},
   "outputs": [
    {
     "data": {
      "text/plain": [
       "100000"
      ]
     },
     "execution_count": 4,
     "metadata": {},
     "output_type": "execute_result"
    }
   ],
   "source": [
    "dev.size"
   ]
  },
  {
   "cell_type": "code",
   "execution_count": 8,
   "metadata": {},
   "outputs": [
    {
     "name": "stderr",
     "output_type": "stream",
     "text": [
      "/tmp/ipykernel_120318/3265248581.py:1: FutureWarning: Series.__getitem__ treating keys as positions is deprecated. In a future version, integer keys will always be treated as labels (consistent with DataFrame behavior). To access a value by position, use `ser.iloc[pos]`\n",
      "  len(dev.iloc[0][0])\n"
     ]
    },
    {
     "data": {
      "text/plain": [
       "1000"
      ]
     },
     "execution_count": 8,
     "metadata": {},
     "output_type": "execute_result"
    }
   ],
   "source": [
    "len(dev.iloc[0][0])"
   ]
  },
  {
   "cell_type": "code",
   "execution_count": 5,
   "metadata": {},
   "outputs": [
    {
     "data": {
      "text/plain": [
       "32387832"
      ]
     },
     "execution_count": 5,
     "metadata": {},
     "output_type": "execute_result"
    }
   ],
   "source": [
    "train.size"
   ]
  },
  {
   "cell_type": "code",
   "execution_count": 9,
   "metadata": {},
   "outputs": [
    {
     "name": "stderr",
     "output_type": "stream",
     "text": [
      "/tmp/ipykernel_120318/2569131963.py:1: FutureWarning: Series.__getitem__ treating keys as positions is deprecated. In a future version, integer keys will always be treated as labels (consistent with DataFrame behavior). To access a value by position, use `ser.iloc[pos]`\n",
      "  len(train.iloc[0][0])\n"
     ]
    },
    {
     "data": {
      "text/plain": [
       "1000"
      ]
     },
     "execution_count": 9,
     "metadata": {},
     "output_type": "execute_result"
    }
   ],
   "source": [
    "len(train.iloc[0][0])"
   ]
  },
  {
   "cell_type": "code",
   "execution_count": 10,
   "metadata": {},
   "outputs": [],
   "source": [
    "def create_shards(path, df, column_name):\n",
    "    columns = {\n",
    "        column_name: 'str'\n",
    "    }\n",
    "\n",
    "    # Save the samples as shards using MDSWriter\n",
    "    with MDSWriter(out=path, columns=columns) as out:\n",
    "        for i in range(len(df)):\n",
    "            out.write(df.iloc[i])\n",
    "\n",
    "    print(f'Dataset written to {path}...')"
   ]
  },
  {
   "cell_type": "code",
   "execution_count": 11,
   "metadata": {},
   "outputs": [],
   "source": [
    "store_path = f'{path}streaming4/'"
   ]
  },
  {
   "cell_type": "code",
   "execution_count": 7,
   "metadata": {},
   "outputs": [
    {
     "name": "stdout",
     "output_type": "stream",
     "text": [
      "Dataset written to /scratch/jbusch/ma/data/dnabert_2_pretrain/streaming_test_text/val/...\n"
     ]
    }
   ],
   "source": [
    "create_shards(f'{store_path}val/', dev, column_name)"
   ]
  },
  {
   "cell_type": "code",
   "execution_count": 12,
   "metadata": {},
   "outputs": [
    {
     "name": "stdout",
     "output_type": "stream",
     "text": [
      "Dataset written to /scratch/jbusch/ma/data/dnabert_2_pretrain/streaming4/train/...\n"
     ]
    }
   ],
   "source": [
    "create_shards(f'{store_path}train/', train, column_name)"
   ]
  },
  {
   "cell_type": "code",
   "execution_count": 13,
   "metadata": {},
   "outputs": [
    {
     "name": "stdout",
     "output_type": "stream",
     "text": [
      "Dataset written to /scratch/jbusch/ma/data/dnabert_2_pretrain/streaming4/rc_val/...\n"
     ]
    }
   ],
   "source": [
    "create_shards(f'{store_path}rc_val/', rc_dev, column_name)"
   ]
  },
  {
   "cell_type": "code",
   "execution_count": 14,
   "metadata": {},
   "outputs": [
    {
     "name": "stdout",
     "output_type": "stream",
     "text": [
      "Dataset written to /scratch/jbusch/ma/data/dnabert_2_pretrain/streaming4/rc_train/...\n"
     ]
    }
   ],
   "source": [
    "create_shards(f'{store_path}rc_train/', rc_train, column_name)"
   ]
  }
 ],
 "metadata": {
  "kernelspec": {
   "display_name": "ma_notebooks",
   "language": "python",
   "name": "python3"
  },
  "language_info": {
   "codemirror_mode": {
    "name": "ipython",
    "version": 3
   },
   "file_extension": ".py",
   "mimetype": "text/x-python",
   "name": "python",
   "nbconvert_exporter": "python",
   "pygments_lexer": "ipython3",
   "version": "3.11.11"
  }
 },
 "nbformat": 4,
 "nbformat_minor": 2
}
