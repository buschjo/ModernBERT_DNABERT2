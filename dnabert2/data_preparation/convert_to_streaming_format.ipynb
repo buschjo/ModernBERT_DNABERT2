{
 "cells": [
  {
   "cell_type": "markdown",
   "metadata": {},
   "source": [
    "# Convert DNABERT2 Pretraining Data to Streaming Format (MDS)\n",
    "\n",
    "adapted from\n",
    "* https://github.com/mosaicml/streaming?tab=readme-ov-file#1-prepare-your-data (accessed: 13.03.2025)\n",
    "* https://docs.mosaicml.com/projects/streaming/en/latest/getting_started/main_concepts.html (accessed: 13.03.2025)\n",
    "* https://docs.mosaicml.com/projects/streaming/en/latest/preparing_datasets/basic_dataset_conversion.html#configuring-dataset-writing (accessed: 13.03.2025)"
   ]
  },
  {
   "cell_type": "code",
   "execution_count": null,
   "metadata": {},
   "outputs": [],
   "source": [
    "import os\n",
    "import torch\n",
    "from torch.utils.data import Dataset\n",
    "import pandas as pd\n",
    "from streaming import MDSWriter"
   ]
  },
  {
   "cell_type": "code",
   "execution_count": null,
   "metadata": {},
   "outputs": [],
   "source": [
    "path = '/scratch/jbusch/ma/data/dnabert_2_pretrain/'\n",
    "column_name = 'input_ids'\n",
    "dev = pd.read_csv(f'{path}dev.txt', sep=\" \", names=[column_name])\n",
    "train = pd.read_csv(f'{path}train.txt', sep=\" \", names=[column_name])\n",
    "# reverse complement dataset\n",
    "rc_dev = pd.read_csv(f'{path}reverse_complement/dev.txt', sep=\" \", names=[column_name])\n",
    "rc_train = pd.read_csv(f'{path}reverse_complement/train.txt', sep=\" \", names=[column_name])"
   ]
  },
  {
   "cell_type": "code",
   "execution_count": null,
   "metadata": {},
   "outputs": [],
   "source": [
    "def create_shards(path, df, column_name):\n",
    "    columns = {\n",
    "        column_name: 'str'\n",
    "    }\n",
    "\n",
    "    # Save the samples as shards using MDSWriter\n",
    "    with MDSWriter(out=path, columns=columns) as out:\n",
    "        for i in range(len(df)):\n",
    "            out.write(df.iloc[i])\n",
    "\n",
    "    print(f'Dataset written to {path}...')"
   ]
  },
  {
   "cell_type": "code",
   "execution_count": null,
   "metadata": {},
   "outputs": [],
   "source": [
    "store_path = f'{path}streaming3/'"
   ]
  },
  {
   "cell_type": "code",
   "execution_count": null,
   "metadata": {},
   "outputs": [],
   "source": [
    "create_shards(f'{store_path}val/', dev, column_name)"
   ]
  },
  {
   "cell_type": "code",
   "execution_count": null,
   "metadata": {},
   "outputs": [],
   "source": [
    "create_shards(f'{store_path}train/', train, column_name)"
   ]
  },
  {
   "cell_type": "code",
   "execution_count": null,
   "metadata": {},
   "outputs": [],
   "source": [
    "create_shards(f'{store_path}rc_val/', rc_dev, column_name)"
   ]
  },
  {
   "cell_type": "code",
   "execution_count": null,
   "metadata": {},
   "outputs": [],
   "source": [
    "create_shards(f'{store_path}rc_train/', rc_train, column_name)"
   ]
  }
 ],
 "metadata": {
  "kernelspec": {
   "display_name": "ma_notebooks",
   "language": "python",
   "name": "python3"
  },
  "language_info": {
   "codemirror_mode": {
    "name": "ipython",
    "version": 3
   },
   "file_extension": ".py",
   "mimetype": "text/x-python",
   "name": "python",
   "nbconvert_exporter": "python",
   "pygments_lexer": "ipython3",
   "version": "3.11.11"
  }
 },
 "nbformat": 4,
 "nbformat_minor": 2
}
