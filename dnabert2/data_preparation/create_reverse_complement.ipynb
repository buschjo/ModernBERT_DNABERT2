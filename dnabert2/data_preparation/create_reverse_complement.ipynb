{
 "cells": [
  {
   "cell_type": "markdown",
   "metadata": {},
   "source": [
    "# Create Reverse Complement"
   ]
  },
  {
   "cell_type": "code",
   "execution_count": null,
   "metadata": {},
   "outputs": [],
   "source": [
    "import pandas as pd"
   ]
  },
  {
   "cell_type": "code",
   "execution_count": null,
   "metadata": {},
   "outputs": [],
   "source": [
    "source_path = '/scratch/jbusch/ma/data/dnabert_2_pretrain/'\n",
    "target_path = f'{source_path}/reverse_complement/'"
   ]
  },
  {
   "cell_type": "markdown",
   "metadata": {},
   "source": [
    "## Functions"
   ]
  },
  {
   "cell_type": "code",
   "execution_count": null,
   "metadata": {},
   "outputs": [],
   "source": [
    "def revert_string(line):\n",
    "\treturn line [::-1]\n",
    "\n",
    "def complement_string(line):\n",
    "\tuc_line = line.upper()\n",
    "\ttmp_complement = uc_line.replace('A', 'Z')\n",
    "\ttmp_complement = tmp_complement.replace('T', 'A')\n",
    "\ttmp_complement = tmp_complement.replace('Z', 'T')\n",
    "\ttmp_complement = tmp_complement.replace('C', 'Y')\n",
    "\ttmp_complement = tmp_complement.replace('G', 'C')\n",
    "\ttmp_complement = tmp_complement.replace('Y', 'G')\n",
    "\treturn tmp_complement\n",
    "\n",
    "def reverse_complement_rows(line):\n",
    "\treturn complement_string(revert_string(line))"
   ]
  },
  {
   "cell_type": "markdown",
   "metadata": {},
   "source": [
    "## Reverse complement of train and dev dataset"
   ]
  },
  {
   "cell_type": "code",
   "execution_count": null,
   "metadata": {},
   "outputs": [],
   "source": [
    "dev = pd.read_csv(f'{source_path}dev.txt', sep=\" \", header=None)\n",
    "train = pd.read_csv(f'{source_path}train.txt', sep=\" \", header=None)\n",
    "print(f'Example: {dev.head()}')\n",
    "print(f'Number of rows: {len(dev)}')\n",
    "print('Train')\n",
    "print(f'Example: {train.head()}')\n",
    "print(f'Number of rows: {len(train)}')"
   ]
  },
  {
   "cell_type": "markdown",
   "metadata": {},
   "source": [
    "### Test procedure on smaller dataset (dev)"
   ]
  },
  {
   "cell_type": "code",
   "execution_count": null,
   "metadata": {},
   "outputs": [],
   "source": [
    "# https://www.w3schools.com/python/python_howto_reverse_string.asp (accessed: 24.05.2025)\n",
    "test_string = 'Hello World'\n",
    "reverse_test_string = 'Hello World' [::-1]\n",
    "print(reverse_test_string)"
   ]
  },
  {
   "cell_type": "code",
   "execution_count": null,
   "metadata": {},
   "outputs": [],
   "source": [
    "first_line = dev.iloc[0][0]\n",
    "print(first_line)\n",
    "reverse_first_line = first_line [::-1]\n",
    "print(reverse_first_line)\n",
    "print(f'Two lines are reverse? -> {first_line [::-1] == reverse_first_line}')"
   ]
  },
  {
   "cell_type": "code",
   "execution_count": null,
   "metadata": {},
   "outputs": [],
   "source": [
    "print(dev.iloc[1][0])"
   ]
  },
  {
   "cell_type": "code",
   "execution_count": null,
   "metadata": {},
   "outputs": [],
   "source": [
    "dev['reverse']=dev.apply(lambda x: revert_string(x[0]), axis=1)"
   ]
  },
  {
   "cell_type": "markdown",
   "metadata": {},
   "source": [
    "#### Replacement Strategy\n",
    "Complement A and T\n",
    "1. A -> Z \n",
    "2. T -> A\n",
    "3. Z -> T\n",
    "\n",
    "Complement G and C\n",
    "1. C -> Y\n",
    "2. G -> C\n",
    "3. Y -> G\n"
   ]
  },
  {
   "cell_type": "code",
   "execution_count": null,
   "metadata": {},
   "outputs": [],
   "source": [
    "test_string.replace('l', 'x')"
   ]
  },
  {
   "cell_type": "code",
   "execution_count": null,
   "metadata": {},
   "outputs": [],
   "source": [
    "test_string.upper()"
   ]
  },
  {
   "cell_type": "code",
   "execution_count": null,
   "metadata": {},
   "outputs": [],
   "source": [
    "# Everything step by step and printing the intermediary results\n",
    "print(first_line)\n",
    "uc_line = first_line.upper()\n",
    "print(uc_line)\n",
    "tmp_complement = uc_line.replace('A', 'Z')\n",
    "print(tmp_complement)\n",
    "tmp_complement = tmp_complement.replace('T', 'A')\n",
    "print(tmp_complement)\n",
    "tmp_complement = tmp_complement.replace('Z', 'T')\n",
    "print(tmp_complement)\n",
    "tmp_complement = tmp_complement.replace('C', 'Y')\n",
    "print(tmp_complement)\n",
    "tmp_complement = tmp_complement.replace('G', 'C')\n",
    "print(tmp_complement)\n",
    "tmp_complement = tmp_complement.replace('Y', 'G')\n",
    "print(tmp_complement)\n",
    "print(revert_string(tmp_complement))"
   ]
  },
  {
   "cell_type": "code",
   "execution_count": null,
   "metadata": {},
   "outputs": [],
   "source": [
    "### string is calculated using https://www.bioinformatics.org/sms/rev_comp.html accessed: 24.05.2025\n",
    "string = 'GACTGAACTGAGATTCTCGTGAAAGAACTGCAGCGCAGACAAAAGCGGAAGTATCGAGAATTGGTGCTGTCCCCTGATAGGGTAAAGGGGCTCCAGGGACTCCCCGTCTCTCCCTCACCCACCGAATGCTCTGCACGGCCGGTCCCCACGACCTAGTCCACGGGGTAGAAGTGCAGGCCAGTCGCCATGGAGAGGACCACGCTTTCCCGGGGATCGGAGAGCCTGCACAGGCAGGGGGCGCCGTGCGTCCCGCCGAGGGCCCGGGCCAGTCCGCTGCCGCTCTGCGCGCCGCGCCGCGCCCTTTCGGCGCTCCGGGGTTTGCGGAAGTGTTTCCAGGAGACGGCGGGTGGGCGGCGCATGCGCGGCGGGTGCGGCGGGCCGCCGGGGGTGCGCGCCGGCTCGGGGGTCCTCCGGTTCACCGTGCGGCGGCGGCGGCAGGTGGACACCTCGTCGGGATGGAACACATCCGTACGACCAAGGTGGGTGCACGGCGGCTGGGCGCGGCTGAGCGGCGTAGGGCCCAGCGGGCCGGGCGGCCTGGGCGGGTTTTCCGTCAGGCGTTGGGCGCCGGGGGCCTGCCGTCAGTCCCGAGGGGCCAGCGGCCTCCCCTCGATCACCTGCTCCACCTCACTTTCCCGGGGCTGGCGGTTTCCGGCGCCGCTTCACCCTCGAGGGTCTCTAGAGTCCAGTCAGGTGCACAGACGAGGTCCGGAGAAGGGGAGTGTGACTCCACGTCTTAACGTGTCTGAGGGAAACGCTCTGCAGCTGAGCTCACGAAACCCCTCGCTTCAGTGTTGTGTGTGAAGGGCACTCACTAGGGTTGTGATCCTGGGACAGCTGAGAAAACGGAAGGGAGTGACATCAGAATATCGGCGGCTTGCTTGACCGTCGGCAATGAAGTTCATCTTCAACTTAGGGCGGGGGAGGGGAAAACAAATCGAGATCAGAAGCATTGAATGGCCCACCCGGAGCCTTGAACAAAATCAGGACAAGGACCTCC'\n",
    "string == revert_string(tmp_complement)"
   ]
  },
  {
   "cell_type": "code",
   "execution_count": null,
   "metadata": {},
   "outputs": [],
   "source": [
    "# Test complement and reverse_complement methods\n",
    "dev['complement']=dev.apply(lambda x: complement_string(x[0]), axis=1)\n",
    "dev['reverse_complement']=dev.apply(lambda x: reverse_complement_rows(x[0]), axis=1)\n",
    "dev.head()"
   ]
  },
  {
   "cell_type": "code",
   "execution_count": null,
   "metadata": {},
   "outputs": [],
   "source": [
    "# Export dev to target path\n",
    "export = dev['reverse_complement'].copy()\n",
    "export.to_csv(f'{target_path}/dev.txt', header=False, index=False)"
   ]
  },
  {
   "cell_type": "markdown",
   "metadata": {},
   "source": [
    "## Repeat relevant steps for Train Dataset"
   ]
  },
  {
   "cell_type": "code",
   "execution_count": null,
   "metadata": {},
   "outputs": [],
   "source": [
    "train['reverse_complement']=train.apply(lambda x: reverse_complement_rows(x[0]), axis=1)"
   ]
  },
  {
   "cell_type": "code",
   "execution_count": null,
   "metadata": {},
   "outputs": [],
   "source": [
    "export = train['reverse_complement'].copy()\n",
    "export.to_csv(f'{target_path}train.txt', header=False, index=False)"
   ]
  },
  {
   "cell_type": "markdown",
   "metadata": {},
   "source": [
    "# Compare Original with RC"
   ]
  },
  {
   "cell_type": "code",
   "execution_count": null,
   "metadata": {},
   "outputs": [],
   "source": [
    "train = pd.read_csv(f'{source_path}train.txt', sep=\" \", header=None, nrows=50)\n",
    "train_rc = pd.read_csv(f'{target_path}train.txt', sep=\" \", header=None, nrows=50)"
   ]
  },
  {
   "cell_type": "code",
   "execution_count": null,
   "metadata": {},
   "outputs": [],
   "source": [
    "print(train.iloc[0][0])"
   ]
  },
  {
   "cell_type": "code",
   "execution_count": null,
   "metadata": {},
   "outputs": [],
   "source": [
    "print(train_rc.iloc[0][0])"
   ]
  },
  {
   "cell_type": "markdown",
   "metadata": {},
   "source": [
    "# Transform subsample for Tokenizer Training"
   ]
  },
  {
   "cell_type": "code",
   "execution_count": null,
   "metadata": {},
   "outputs": [],
   "source": [
    "source_path_subsample = '/scratch/jbusch/ma/data/dnabert_2_pretrain/tokenizer_training_subsamples/train_sub5M.txt'\n",
    "target_path_subsample = '/scratch/jbusch/ma/data/dnabert_2_pretrain/tokenizer_training_subsamples/'"
   ]
  },
  {
   "cell_type": "code",
   "execution_count": null,
   "metadata": {},
   "outputs": [],
   "source": [
    "subsample = pd.read_csv(source_path_subsample, sep=\" \", header=None)\n",
    "print(f'Example: {subsample.head()}')\n",
    "print(f'Number of rows: {len(subsample)}')"
   ]
  },
  {
   "cell_type": "code",
   "execution_count": null,
   "metadata": {},
   "outputs": [],
   "source": [
    "subsample['reverse_complement']=subsample.apply(lambda x: reverse_complement_rows(x[0]), axis=1)"
   ]
  },
  {
   "cell_type": "code",
   "execution_count": null,
   "metadata": {},
   "outputs": [],
   "source": [
    "subsample_file_name = 'rc_train_sub5M.txt'\n",
    "export = subsample['reverse_complement'].copy()\n",
    "export.to_csv(f'{target_path_subsample}{subsample_file_name}', header=False, index=False)"
   ]
  },
  {
   "cell_type": "code",
   "execution_count": null,
   "metadata": {},
   "outputs": [],
   "source": [
    "subsample_rc = pd.read_csv(f'{target_path_subsample}{subsample_file_name}', sep=\" \", header=None, nrows=50)\n",
    "subsample_original = pd.read_csv(f'{source_path_subsample}', sep=\" \", header=None, nrows=50)"
   ]
  },
  {
   "cell_type": "code",
   "execution_count": null,
   "metadata": {},
   "outputs": [],
   "source": [
    "subsample_rc.iloc[0][0]"
   ]
  },
  {
   "cell_type": "code",
   "execution_count": null,
   "metadata": {},
   "outputs": [],
   "source": [
    "subsample_original.iloc[0][0]"
   ]
  }
 ],
 "metadata": {
  "kernelspec": {
   "display_name": "ma_notebooks",
   "language": "python",
   "name": "python3"
  },
  "language_info": {
   "codemirror_mode": {
    "name": "ipython",
    "version": 3
   },
   "file_extension": ".py",
   "mimetype": "text/x-python",
   "name": "python",
   "nbconvert_exporter": "python",
   "pygments_lexer": "ipython3",
   "version": "3.11.11"
  }
 },
 "nbformat": 4,
 "nbformat_minor": 2
}
