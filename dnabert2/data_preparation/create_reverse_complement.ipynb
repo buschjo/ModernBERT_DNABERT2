{
 "cells": [
  {
   "cell_type": "markdown",
   "metadata": {},
   "source": [
    "# Create Reverse Complement"
   ]
  },
  {
   "cell_type": "code",
   "execution_count": null,
   "metadata": {},
   "outputs": [],
   "source": [
    "import pandas as pd"
   ]
  },
  {
   "cell_type": "code",
   "execution_count": 3,
   "metadata": {},
   "outputs": [],
   "source": [
    "source_path = '/scratch/jbusch/ma/data/dnabert_2_pretrain/tokenizer_training_subsamples/'\n",
    "target_path = f'{source_path}/reverse_complement/'"
   ]
  },
  {
   "cell_type": "markdown",
   "metadata": {},
   "source": [
    "## Functions\n",
    "### Replacement Strategy\n",
    "Complement A and T\n",
    "1. A -> Z \n",
    "2. T -> A\n",
    "3. Z -> T\n",
    "\n",
    "Complement G and C\n",
    "1. C -> Y\n",
    "2. G -> C\n",
    "3. Y -> G\n"
   ]
  },
  {
   "cell_type": "code",
   "execution_count": 4,
   "metadata": {},
   "outputs": [],
   "source": [
    "def revert_string(line):\n",
    "\treturn line [::-1]\n",
    "\n",
    "def complement_string(line):\n",
    "\tuc_line = line.upper()\n",
    "\ttmp_complement = uc_line.replace('A', 'Z')\n",
    "\ttmp_complement = tmp_complement.replace('T', 'A')\n",
    "\ttmp_complement = tmp_complement.replace('Z', 'T')\n",
    "\ttmp_complement = tmp_complement.replace('C', 'Y')\n",
    "\ttmp_complement = tmp_complement.replace('G', 'C')\n",
    "\ttmp_complement = tmp_complement.replace('Y', 'G')\n",
    "\treturn tmp_complement\n",
    "\n",
    "def reverse_complement_rows(line):\n",
    "\treturn complement_string(revert_string(line))"
   ]
  },
  {
   "cell_type": "markdown",
   "metadata": {},
   "source": [
    "### Reverse complement of dataset"
   ]
  },
  {
   "cell_type": "code",
   "execution_count": 5,
   "metadata": {},
   "outputs": [
    {
     "name": "stdout",
     "output_type": "stream",
     "text": [
      "Example:                                                    0\n",
      "0  CCTTTGGGATAAGAAAAATATCCCTCCTATAACTGAGGAATATCAA...\n",
      "1  AATAGTACTAAAGCAAGTACCCACTAGAGAGTTTGTGTTCATGAGT...\n",
      "2  GATTATTAAAACATTAACTTTTAAAAACGCAACTCTACTTGTCTTT...\n",
      "3  CAGCTGCCTCTGATTGGGAACCACACCGGCCAACATAGATATACAC...\n",
      "4  CGAAACGTGCCTGGAGTTCGGTCCCTGACCGGGCTATGTGCCCAAG...\n",
      "Number of rows: 2500000\n"
     ]
    }
   ],
   "source": [
    "tokenizer_training_data = pd.read_csv(f'{source_path}split_train_sub5M.txt', sep=\" \", header=None)\n",
    "print(f'Example: {tokenizer_training_data.head()}')\n",
    "print(f'Number of rows: {len(tokenizer_training_data)}')"
   ]
  },
  {
   "cell_type": "code",
   "execution_count": 6,
   "metadata": {},
   "outputs": [],
   "source": [
    "tokenizer_training_data['reverse']=tokenizer_training_data.apply(lambda x: revert_string(x[0]), axis=1)"
   ]
  },
  {
   "cell_type": "code",
   "execution_count": 7,
   "metadata": {},
   "outputs": [
    {
     "data": {
      "text/html": [
       "<div>\n",
       "<style scoped>\n",
       "    .dataframe tbody tr th:only-of-type {\n",
       "        vertical-align: middle;\n",
       "    }\n",
       "\n",
       "    .dataframe tbody tr th {\n",
       "        vertical-align: top;\n",
       "    }\n",
       "\n",
       "    .dataframe thead th {\n",
       "        text-align: right;\n",
       "    }\n",
       "</style>\n",
       "<table border=\"1\" class=\"dataframe\">\n",
       "  <thead>\n",
       "    <tr style=\"text-align: right;\">\n",
       "      <th></th>\n",
       "      <th>0</th>\n",
       "      <th>reverse</th>\n",
       "    </tr>\n",
       "  </thead>\n",
       "  <tbody>\n",
       "    <tr>\n",
       "      <th>0</th>\n",
       "      <td>CCTTTGGGATAAGAAAAATATCCCTCCTATAACTGAGGAATATCAA...</td>\n",
       "      <td>CGTCAACGGATTTTATCAAATACGGAGGAAACAAGAGGTATTTCAA...</td>\n",
       "    </tr>\n",
       "    <tr>\n",
       "      <th>1</th>\n",
       "      <td>AATAGTACTAAAGCAAGTACCCACTAGAGAGTTTGTGTTCATGAGT...</td>\n",
       "      <td>GTGTACTCATGATTATAAGATGAGGTATCCACAATCCAGGAGTTGG...</td>\n",
       "    </tr>\n",
       "    <tr>\n",
       "      <th>2</th>\n",
       "      <td>GATTATTAAAACATTAACTTTTAAAAACGCAACTCTACTTGTCTTT...</td>\n",
       "      <td>TTGTATTCGCTTAGTAGAATCCTCTGTCACCATACTTTTCACGACA...</td>\n",
       "    </tr>\n",
       "    <tr>\n",
       "      <th>3</th>\n",
       "      <td>CAGCTGCCTCTGATTGGGAACCACACCGGCCAACATAGATATACAC...</td>\n",
       "      <td>TTCGGTCACCACGCACAGCGGTCAGGCCGGGCCGGACAAGGACGAG...</td>\n",
       "    </tr>\n",
       "    <tr>\n",
       "      <th>4</th>\n",
       "      <td>CGAAACGTGCCTGGAGTTCGGTCCCTGACCGGGCTATGTGCCCAAG...</td>\n",
       "      <td>ACACGACGGTCCAGATCAGCCCCCCACAGGGAGGGTTCCCCTCCTG...</td>\n",
       "    </tr>\n",
       "  </tbody>\n",
       "</table>\n",
       "</div>"
      ],
      "text/plain": [
       "                                                   0  \\\n",
       "0  CCTTTGGGATAAGAAAAATATCCCTCCTATAACTGAGGAATATCAA...   \n",
       "1  AATAGTACTAAAGCAAGTACCCACTAGAGAGTTTGTGTTCATGAGT...   \n",
       "2  GATTATTAAAACATTAACTTTTAAAAACGCAACTCTACTTGTCTTT...   \n",
       "3  CAGCTGCCTCTGATTGGGAACCACACCGGCCAACATAGATATACAC...   \n",
       "4  CGAAACGTGCCTGGAGTTCGGTCCCTGACCGGGCTATGTGCCCAAG...   \n",
       "\n",
       "                                             reverse  \n",
       "0  CGTCAACGGATTTTATCAAATACGGAGGAAACAAGAGGTATTTCAA...  \n",
       "1  GTGTACTCATGATTATAAGATGAGGTATCCACAATCCAGGAGTTGG...  \n",
       "2  TTGTATTCGCTTAGTAGAATCCTCTGTCACCATACTTTTCACGACA...  \n",
       "3  TTCGGTCACCACGCACAGCGGTCAGGCCGGGCCGGACAAGGACGAG...  \n",
       "4  ACACGACGGTCCAGATCAGCCCCCCACAGGGAGGGTTCCCCTCCTG...  "
      ]
     },
     "execution_count": 7,
     "metadata": {},
     "output_type": "execute_result"
    }
   ],
   "source": [
    "tokenizer_training_data.head()"
   ]
  },
  {
   "cell_type": "code",
   "execution_count": 8,
   "metadata": {},
   "outputs": [
    {
     "name": "stdout",
     "output_type": "stream",
     "text": [
      "Two lines are reverse? -> True\n"
     ]
    }
   ],
   "source": [
    "first_line = tokenizer_training_data[0][0]\n",
    "reverse_first_line = tokenizer_training_data['reverse'][0]\n",
    "print(f'Two lines are reverse? -> {first_line [::-1] == reverse_first_line}')"
   ]
  },
  {
   "cell_type": "markdown",
   "metadata": {},
   "source": [
    "### Combine the two parts to a new dataset"
   ]
  },
  {
   "cell_type": "code",
   "execution_count": 13,
   "metadata": {},
   "outputs": [
    {
     "data": {
      "text/plain": [
       "0    CCTTTGGGATAAGAAAAATATCCCTCCTATAACTGAGGAATATCAA...\n",
       "1    AATAGTACTAAAGCAAGTACCCACTAGAGAGTTTGTGTTCATGAGT...\n",
       "2    GATTATTAAAACATTAACTTTTAAAAACGCAACTCTACTTGTCTTT...\n",
       "3    CAGCTGCCTCTGATTGGGAACCACACCGGCCAACATAGATATACAC...\n",
       "4    CGAAACGTGCCTGGAGTTCGGTCCCTGACCGGGCTATGTGCCCAAG...\n",
       "dtype: object"
      ]
     },
     "execution_count": 13,
     "metadata": {},
     "output_type": "execute_result"
    }
   ],
   "source": [
    "rc_split = pd.concat([tokenizer_training_data[0], tokenizer_training_data['reverse']])\n",
    "rc_split.head()"
   ]
  },
  {
   "cell_type": "code",
   "execution_count": 15,
   "metadata": {},
   "outputs": [],
   "source": [
    "rc_split.to_csv(f'{target_path}rc_split.txt')"
   ]
  }
 ],
 "metadata": {
  "kernelspec": {
   "display_name": "ma_notebooks",
   "language": "python",
   "name": "python3"
  },
  "language_info": {
   "codemirror_mode": {
    "name": "ipython",
    "version": 3
   },
   "file_extension": ".py",
   "mimetype": "text/x-python",
   "name": "python",
   "nbconvert_exporter": "python",
   "pygments_lexer": "ipython3",
   "version": "3.11.11"
  }
 },
 "nbformat": 4,
 "nbformat_minor": 2
}
